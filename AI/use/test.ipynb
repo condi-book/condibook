{
 "cells": [
  {
   "cell_type": "code",
   "execution_count": 1,
   "metadata": {},
   "outputs": [],
   "source": [
    "from model import nouns_extractor, keywords_sum_similarity, recommend_by_keyword, make_reserved_bookmark_list, get_category"
   ]
  },
  {
   "cell_type": "code",
   "execution_count": 3,
   "metadata": {},
   "outputs": [],
   "source": [
    "def translate(req):\n",
    "    \n",
    "    title = req['title']\n",
    "    description = req['description']\n",
    "\n",
    "    if title == 'apiapiapi' and description == 'apiapiapi':\n",
    "        x = '''\n",
    "        설명 :\n",
    "        10 + title 안의 명사의 갯수 만큼 길이의 dictionary가 return.\n",
    "        배열 안의 원소는 2개의 배열로 이루어져 있으며 첫 번째에는 추천키워드, 두 번째에는 각각의 keyword와 description으로부터 계산된 similarity_sum이 들어간다.\n",
    "        * 만약 추천키워드가 model 안에 없는 경우 맨 앞 단어에는 !가 붙고, 그 value = -1로 표기된다.\n",
    "        ( ex. 리턴값에 백엔드가 단어로 들어왔는데 모델에 없는 경우..(받은 배열의 이름을 res라 함.) res[!백엔드] == -1 )\n",
    "        '''\n",
    "        # make_response(x)\n",
    "        return x, 200\n",
    "\n",
    "    # stttime = time.time()\n",
    "\n",
    "    title_nouns = nouns_extractor(title)\n",
    "    description_nouns = nouns_extractor(description)\n",
    "    reserved_bookmark_list = make_reserved_bookmark_list(title_nouns)\n",
    "    recommend_keywords = keywords_sum_similarity(reserved_bookmark_list,description_nouns)\n",
    "    # 함수 개선의 필요성이 느껴진다.. 처음 시작은 약 4초, 그 후에는 함수/변수/모델이 모두 로드가 된 상태이기 때문에 약 0.5초정도 걸림.\n",
    "    # (기본 pretrained_model 사용시..)\n",
    "    \n",
    "    category = get_category(['프로그래밍','날씨','하늘'])\n",
    "\n",
    "    print(category)\n",
    "    # print('running_time = ', time.time() - stttime)\n",
    "    \n",
    "    return recommend_keywords"
   ]
  },
  {
   "cell_type": "code",
   "execution_count": 2,
   "metadata": {},
   "outputs": [],
   "source": [
    "from gensim.models import Word2Vec\n",
    "import os\n",
    "os.environ['JAVA_HOME'] = r'/usr/bin/jar'"
   ]
  },
  {
   "cell_type": "code",
   "execution_count": 10,
   "metadata": {},
   "outputs": [],
   "source": [
    "model = Word2Vec.load('../model/pretrained_ko.bin') # 새로운 경로 지정.\n",
    "model_input_words = tuple(model.wv.index2word)"
   ]
  },
  {
   "cell_type": "code",
   "execution_count": 11,
   "metadata": {},
   "outputs": [
    {
     "data": {
      "text/plain": [
       "[('우리말', 0.6856735944747925),\n",
       " ('훈민정음', 0.6746662259101868),\n",
       " ('한국어', 0.6672539710998535),\n",
       " ('로마자', 0.6571487188339233),\n",
       " ('영문', 0.6518102884292603),\n",
       " ('한문', 0.6470773220062256),\n",
       " ('글꼴', 0.6337352991104126),\n",
       " ('한자', 0.629895806312561),\n",
       " ('낱자', 0.6262421011924744),\n",
       " ('맞춤법', 0.6166303157806396)]"
      ]
     },
     "execution_count": 11,
     "metadata": {},
     "output_type": "execute_result"
    }
   ],
   "source": [
    "model.wv.most_similar(\"한글\")"
   ]
  },
  {
   "cell_type": "code",
   "execution_count": 74,
   "metadata": {},
   "outputs": [],
   "source": [
    "len(model.wv.index2word)\n",
    "\n",
    "x = '경영, 정보/기술, 금융, 개발, 구인/구직, 건강, 환경, 뷰티, 여행, 맛집/카페, 자기계발, 음식/요리'.split(', ')\n",
    "# it --> 정보, (인크루트) --> del, \n",
    "# 자기개발, 맛집, "
   ]
  },
  {
   "cell_type": "code",
   "execution_count": 88,
   "metadata": {},
   "outputs": [
    {
     "name": "stdout",
     "output_type": "stream",
     "text": [
      "['경영', '정보/기술', '금융', '개발', '구인/구직', '건강', '환경', '뷰티', '여행', '맛집/카페', '자기계발', '음식/요리']\n",
      "['경영', ('정보', '기술'), '금융', '개발', ('구인', '구직'), '건강', '환경', '뷰티', '여행', ('식당', '카페'), ('자기', '공부'), ('음식', '요리')]\n",
      "{'경영': '경영', ('정보', '기술'): '정보/기술', '금융': '금융', '개발': '개발', ('구인', '구직'): '구인/구직', '건강': '건강', '환경': '환경', '뷰티': '뷰티', '여행': '여행', ('식당', '카페'): '맛집/카페', ('자기', '공부'): '자기계발', ('음식', '요리'): '음식/요리'}\n"
     ]
    }
   ],
   "source": [
    "y=[]\n",
    "for i in range(len(x)):\n",
    "    if '/' in x[i]:\n",
    "        y.append(tuple(x[i].split('/')))\n",
    "    else:\n",
    "        y.append(x[i])\n",
    "print(x)\n",
    "categories = [('경영'), ('정보', '기술'), ('금융'), ('개발'), ('구인', '구직'), ('건강'), ('환경'), ('뷰티'), ('여행'), ('식당', '카페'), ('자기','공부'),('음식', '요리')]\n",
    "print(categories)\n",
    "\n",
    "cate_dic = {categories[i]:x[i] for i in range(len(x))}\n",
    "print(cate_dic)"
   ]
  },
  {
   "cell_type": "code",
   "execution_count": 38,
   "metadata": {},
   "outputs": [
    {
     "data": {
      "text/plain": [
       "[('취업', 0.561211347579956),\n",
       " ('연수', 0.5039308071136475),\n",
       " ('구직자', 0.5037397146224976),\n",
       " ('교육장', 0.49912774562835693),\n",
       " ('직업', 0.4980913996696472),\n",
       " ('사무원', 0.49557119607925415),\n",
       " ('임직원', 0.4732576608657837),\n",
       " ('사무직', 0.4702960252761841),\n",
       " ('알선', 0.46453529596328735),\n",
       " ('장학사', 0.46412405371665955)]"
      ]
     },
     "execution_count": 38,
     "metadata": {},
     "output_type": "execute_result"
    }
   ],
   "source": [
    "model.wv.most_similar(positive = ['구인','구직'])"
   ]
  },
  {
   "cell_type": "code",
   "execution_count": 89,
   "metadata": {},
   "outputs": [],
   "source": [
    "def get_category(hashtags):\n",
    "    categories = [('경영'), ('정보', '기술'), ('금융'), ('개발'), ('구인', '구직'), ('건강'), ('환경'), ('뷰티'), ('여행'), ('식당', '카페'), ('자기','공부'),('음식', '요리')]\n",
    "    cate_dic = {'경영': '경영', ('정보', '기술'): '정보/기술', '금융': '금융', '개발': '개발', ('구인', '구직'): '구인/구직', '건강': '건강', '환경': '환경', '뷰티': '뷰티', '여행': '여행', ('식당', '카페'): '맛집/카페', ('자기', '공부'): '자기계발', ('음식', '요리'): '음식/요리'}\n",
    "    weights = [0]*len(categories)\n",
    "\n",
    "    for i in range(len(categories)):\n",
    "        weights[i] = model.wv.n_similarity(categories[i],hashtags)\n",
    "    \n",
    "    return cate_dic[categories[weights.index(max(weights))]]"
   ]
  },
  {
   "cell_type": "code",
   "execution_count": 91,
   "metadata": {},
   "outputs": [
    {
     "data": {
      "text/plain": [
       "'구인/구직'"
      ]
     },
     "execution_count": 91,
     "metadata": {},
     "output_type": "execute_result"
    }
   ],
   "source": [
    "get_category(['취업','대학생','구인'])"
   ]
  },
  {
   "cell_type": "code",
   "execution_count": 54,
   "metadata": {},
   "outputs": [
    {
     "data": {
      "text/plain": [
       "0.6609084"
      ]
     },
     "execution_count": 54,
     "metadata": {},
     "output_type": "execute_result"
    }
   ],
   "source": [
    "model.wv.n_similarity(['구인','사무원','구직'],['알선','임직원','연수'])"
   ]
  },
  {
   "cell_type": "code",
   "execution_count": 59,
   "metadata": {},
   "outputs": [
    {
     "data": {
      "text/plain": [
       "[('가르치', 0.6655912399291992),\n",
       " ('중퇴', 0.6448310613632202),\n",
       " ('수학', 0.6283489465713501),\n",
       " ('졸업', 0.5976732969284058),\n",
       " ('한학', 0.5947862267494202),\n",
       " ('수료', 0.5928074717521667),\n",
       " ('영문학', 0.5868287086486816),\n",
       " ('전공', 0.5848740339279175),\n",
       " ('배우', 0.5693216919898987),\n",
       " ('강론', 0.5641564726829529)]"
      ]
     },
     "execution_count": 59,
     "metadata": {},
     "output_type": "execute_result"
    }
   ],
   "source": [
    "model.wv.most_similar('공부')"
   ]
  },
  {
   "cell_type": "code",
   "execution_count": 62,
   "metadata": {},
   "outputs": [
    {
     "data": {
      "text/plain": [
       "['ghbv', 'ssd', 'wer']"
      ]
     },
     "execution_count": 62,
     "metadata": {},
     "output_type": "execute_result"
    }
   ],
   "source": [
    "z = {'qwer':0.1,'wer':0.3,'ssd':0.999,'vxcb':-1,'ghbv':333}\n",
    "\n",
    "xxx = sorted(list(z.keys()), key = lambda x: -z[x])[:3]\n",
    "xxx"
   ]
  },
  {
   "cell_type": "code",
   "execution_count": 2,
   "metadata": {},
   "outputs": [
    {
     "data": {
      "text/plain": [
       "14"
      ]
     },
     "execution_count": 2,
     "metadata": {},
     "output_type": "execute_result"
    }
   ],
   "source": [
    "categories = [('경영'), ('정보', '기술'), ('금융'), ('개발'), ('구인', '구직','채용'), ('건강'), ('환경'), ('뷰티'), ('여행'), ('식당', '카페'), ('자기','공부'),('음식', '요리'),('음악'),('쇼핑')]\n",
    "len(categories)\n",
    "cate_dic = {'경영': '경영', ('정보', '기술'): '정보/기술', '금융': '금융', '개발': '개발', ('구인', '구직','채용'): '구인/구직', '건강': '건강', '환경': '환경', '뷰티': '뷰티', '여행': '여행', ('식당', '카페'): '맛집/카페', ('자기', '공부'): '자기계발', ('음식', '요리'): '음식/요리','음악':'음악','쇼핑':'쇼핑'}\n",
    "len(cate_dic)"
   ]
  },
  {
   "cell_type": "markdown",
   "metadata": {},
   "source": [
    "## !  핫픽스.. 모델이 기존 단어에 추가된 훈련이 아님...,,,, "
   ]
  },
  {
   "cell_type": "markdown",
   "metadata": {},
   "source": []
  }
 ],
 "metadata": {
  "kernelspec": {
   "display_name": "Python 3.10.0 64-bit",
   "language": "python",
   "name": "python3"
  },
  "language_info": {
   "codemirror_mode": {
    "name": "ipython",
    "version": 3
   },
   "file_extension": ".py",
   "mimetype": "text/x-python",
   "name": "python",
   "nbconvert_exporter": "python",
   "pygments_lexer": "ipython3",
   "version": "3.10.0"
  },
  "orig_nbformat": 4,
  "vscode": {
   "interpreter": {
    "hash": "072767b9cb27be4a2fa1d602913681a3bbe22f8c2fe03a0a53dffc5aa773ae00"
   }
  }
 },
 "nbformat": 4,
 "nbformat_minor": 2
}
